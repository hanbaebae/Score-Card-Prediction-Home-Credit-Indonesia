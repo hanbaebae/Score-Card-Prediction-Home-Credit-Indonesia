{
 "cells": [
  {
   "cell_type": "code",
   "execution_count": null,
   "metadata": {},
   "outputs": [],
   "source": [
    "import os\n",
    "import numpy as np\n",
    "import pandas as pd \n",
    "import matplotlib.pyplot as plt \n",
    "import seaborn as sns \n",
    "from sklearn.preprocessing import LabelEncoder\n",
    "from sklearn.feature_selection import SelectKBest #feature selection\n",
    "from sklearn.feature_selection import chi2\n",
    "from sklearn.utils import resample #re-sampling\n",
    "from sklearn.model_selection import train_test_split #pembagian data\n",
    "from sklearn.preprocessing import MinMaxScaler  #normalisasi fitur\n",
    "from sklearn.linear_model import LogisticRegression #logistic regression\n",
    "from sklearn.svm import SVC #svm\n",
    "from sklearn import tree\n",
    "from sklearn.ensemble import RandomForestClassifier #random forest\n",
    "from sklearn.neighbors import KNeighborsClassifier #k-nearest neighbor\n",
    "from sklearn.metrics import confusion_matrix, classification_report \n",
    "from sklearn.metrics import roc_auc_score #roc score\n",
    "%matplotlib\n",
    "%matplotlib inline\n",
    "%matplotlib inline"
   ]
  },
  {
   "cell_type": "code",
   "execution_count": null,
   "metadata": {},
   "outputs": [],
   "source": [
    "pd.set_option('display.max_columns', None)\n",
    "pd.set_option('display.max_rows', None)"
   ]
  },
  {
   "cell_type": "code",
   "execution_count": null,
   "metadata": {},
   "outputs": [],
   "source": [
    "df_train = pd.read_csv(\"application_train.csv\", sep=',')\n",
    "print('This dataset has %d rows dan %d columns.\\n' % df_train.shape)\n",
    "df_train.head()"
   ]
  },
  {
   "cell_type": "code",
   "execution_count": null,
   "metadata": {},
   "outputs": [],
   "source": [
    "print('Data types: \\n')\n",
    "df_train.info(verbose=True)"
   ]
  },
  {
   "cell_type": "code",
   "execution_count": null,
   "metadata": {},
   "outputs": [],
   "source": [
    "train = df_train.copy()"
   ]
  },
  {
   "cell_type": "code",
   "execution_count": null,
   "metadata": {},
   "outputs": [],
   "source": [
    "decode_map = {0: \"Tanpa Kesulitan Pembayaran\", 1: \"Kesulitan Pembayaran\"}\n",
    "def decode_sentiment(label):\n",
    "    return decode_map[int(label)]\n",
    "\n",
    "train['TARGET'] = train['TARGET'].apply(lambda x: decode_sentiment(x))"
   ]
  },
  {
   "cell_type": "code",
   "execution_count": null,
   "metadata": {},
   "outputs": [],
   "source": [
    "target_grp = (train[['TARGET']]\n",
    "                .groupby(\"TARGET\")\n",
    "                .agg(COUNT=(\"TARGET\",\"count\"))\n",
    "                .sort_values(by=[\"COUNT\"],ascending=False)\n",
    "                .reset_index()\n",
    "                )\n",
    "\n",
    "target_grp.style.background_gradient(cmap='Blues')\n"
   ]
  },
  {
   "cell_type": "code",
   "execution_count": null,
   "metadata": {},
   "outputs": [],
   "source": [
    "grp = train['TARGET'].value_counts(normalize=True)\n",
    "grp.reset_index().style.background_gradient(cmap='Blues')"
   ]
  },
  {
   "cell_type": "code",
   "execution_count": null,
   "metadata": {},
   "outputs": [],
   "source": [
    "fig = plt.figure(figsize = (12,7))\n",
    "grp.plot(kind='bar', color= ['midnightblue','gray'], alpha = 0.9, rot=0)\n",
    "plt.title('The Distribution of Clients Repayment Abilities\\n', fontsize=14)\n",
    "plt.show()"
   ]
  },
  {
   "cell_type": "code",
   "execution_count": null,
   "metadata": {},
   "outputs": [],
   "source": [
    "print('The number of duplication is:', df_train.duplicated().sum())\n"
   ]
  },
  {
   "cell_type": "code",
   "execution_count": null,
   "metadata": {},
   "outputs": [],
   "source": [
    "print('Missing values status:', df_train.isnull().values.any())\n",
    "nvc = pd.DataFrame(df_train.isnull().sum(), columns=['Total Null Values'])\n",
    "nvc['Percentage'] = (nvc['Total Null Values']/df_train.shape[0])*100\n",
    "nvc.sort_values(by=['Percentage'], ascending=False).reset_index()"
   ]
  },
  {
   "cell_type": "code",
   "execution_count": null,
   "metadata": {},
   "outputs": [],
   "source": [
    "df_train.drop(df_train.iloc[:, 44:91], inplace=True, axis=1)\n",
    "df_train.drop(['OWN_CAR_AGE','EXT_SOURCE_1'], inplace=True, axis=1)"
   ]
  },
  {
   "cell_type": "code",
   "execution_count": null,
   "metadata": {},
   "outputs": [],
   "source": [
    "print('Missing values status:', df_train.isnull().values.any())\n",
    "nvc = pd.DataFrame(df_train.isnull().sum().sort_values(), columns=['Total Null Values'])\n",
    "nvc['Percentage'] = (nvc['Total Null Values']/df_train.shape[0])*100\n",
    "nvc.sort_values(by=['Percentage'], ascending=False).reset_index()"
   ]
  },
  {
   "cell_type": "code",
   "execution_count": null,
   "metadata": {},
   "outputs": [],
   "source": [
    "category_columns = df_train.select_dtypes(include=['object']).columns.tolist()\n",
    "integer_columns = df_train.select_dtypes(include=['int64','float64']).columns.tolist()\n",
    "\n",
    "for column in df_train:\n",
    "    if df_train[column].isnull().any():\n",
    "        if(column in category_columns):\n",
    "            df_train[column]=df_train[column].fillna(df_train[column].mode()[0])\n",
    "        else:\n",
    "            df_train[column]=df_train[column].fillna(df_train[column].median())"
   ]
  },
  {
   "cell_type": "code",
   "execution_count": null,
   "metadata": {},
   "outputs": [],
   "source": [
    "df_train[[\"CODE_GENDER\", \"NAME_CONTRACT_TYPE\", \"FLAG_OWN_CAR\", \"FLAG_OWN_REALTY\", \n",
    "          \"NAME_TYPE_SUITE\", \"NAME_INCOME_TYPE\", \"NAME_EDUCATION_TYPE\", \"NAME_FAMILY_STATUS\",\n",
    "         \"NAME_HOUSING_TYPE\", \"OCCUPATION_TYPE\", \"WEEKDAY_APPR_PROCESS_START\", \"ORGANIZATION_TYPE\"]] = df_train[[\"CODE_GENDER\", \"NAME_CONTRACT_TYPE\", \"FLAG_OWN_CAR\", \"FLAG_OWN_REALTY\", \n",
    "          \"NAME_TYPE_SUITE\", \"NAME_INCOME_TYPE\", \"NAME_EDUCATION_TYPE\", \"NAME_FAMILY_STATUS\",\n",
    "         \"NAME_HOUSING_TYPE\", \"OCCUPATION_TYPE\", \"WEEKDAY_APPR_PROCESS_START\", \"ORGANIZATION_TYPE\"]].apply(LabelEncoder().fit_transform)"
   ]
  },
  {
   "cell_type": "code",
   "execution_count": null,
   "metadata": {},
   "outputs": [],
   "source": [
    "df_train.head()"
   ]
  },
  {
   "cell_type": "code",
   "execution_count": null,
   "metadata": {},
   "outputs": [],
   "source": [
    "df_train.drop(['SK_ID_CURR'], inplace=True, axis=1)\n"
   ]
  },
  {
   "cell_type": "code",
   "execution_count": null,
   "metadata": {},
   "outputs": [],
   "source": [
    "df_train.head()"
   ]
  },
  {
   "cell_type": "code",
   "execution_count": null,
   "metadata": {},
   "outputs": [],
   "source": [
    "df_train.iloc[:,16:20] = df_train.iloc[:,16:20].abs()\n",
    "df_train.iloc[:,45] = df_train.iloc[:,45].abs()"
   ]
  },
  {
   "cell_type": "code",
   "execution_count": null,
   "metadata": {},
   "outputs": [],
   "source": [
    "x = df_train.drop(['TARGET'], axis=1)\n",
    "y = df_train['TARGET']"
   ]
  },
  {
   "cell_type": "code",
   "execution_count": null,
   "metadata": {},
   "outputs": [],
   "source": [
    "df_majority = df_train[(df_train['TARGET']==0)] \n",
    "df_minority = df_train[(df_train['TARGET']==1)] \n",
    "\n",
    "df_minority_upsampled = resample(df_minority, \n",
    "                                 replace=True,    \n",
    "                                 n_samples= 282686, \n",
    "                                 random_state=42)  \n",
    "\n",
    "df_upsampled = pd.concat([df_minority_upsampled, df_majority])"
   ]
  },
  {
   "cell_type": "code",
   "execution_count": null,
   "metadata": {},
   "outputs": [],
   "source": [
    "x_balanced = df_upsampled[['DAYS_EMPLOYED', 'AMT_GOODS_PRICE', 'AMT_CREDIT', \n",
    "                           'DAYS_BIRTH', 'AMT_INCOME_TOTAL', 'DAYS_REGISTRATION', \n",
    "                           'DAYS_LAST_PHONE_CHANGE', 'DAYS_ID_PUBLISH', 'AMT_ANNUITY', \n",
    "                           'ORGANIZATION_TYPE', 'NAME_INCOME_TYPE', 'REG_CITY_NOT_WORK_CITY',\n",
    "                          'CODE_GENDER', 'EXT_SOURCE_2', 'REG_CITY_NOT_LIVE_CITY', 'NAME_EDUCATION_TYPE',\n",
    "                          'DEF_30_CNT_SOCIAL_CIRCLE', 'EXT_SOURCE_3', 'DEF_60_CNT_SOCIAL_CIRCLE', 'LIVE_CITY_NOT_WORK_CITY']]\n",
    "y_balanced = df_upsampled['TARGET']"
   ]
  },
  {
   "cell_type": "code",
   "execution_count": null,
   "metadata": {},
   "outputs": [],
   "source": [
    "X_train, X_test, y_train, y_test = train_test_split(x_balanced, y_balanced, test_size=0.2, random_state=42)\n",
    "print(X_train.shape, X_test.shape)"
   ]
  },
  {
   "cell_type": "code",
   "execution_count": null,
   "metadata": {},
   "outputs": [],
   "source": [
    "scaler = MinMaxScaler()\n",
    "X_train = scaler.fit_transform(X_train)\n",
    "X_test = scaler.fit_transform(X_test)"
   ]
  },
  {
   "cell_type": "code",
   "execution_count": null,
   "metadata": {},
   "outputs": [],
   "source": [
    "model_log = LogisticRegression().fit(X_train, y_train)\n",
    "print(model_log)\n",
    "\n"
   ]
  },
  {
   "cell_type": "code",
   "execution_count": null,
   "metadata": {},
   "outputs": [],
   "source": [
    "y_train_pred_log = model_log.predict(X_train)\n",
    "\n",
    "print('Logistic Regression :')\n",
    "print(classification_report(y_train, y_train_pred_log))"
   ]
  },
  {
   "cell_type": "code",
   "execution_count": null,
   "metadata": {},
   "outputs": [],
   "source": [
    "y_test_pred_log = model_log.predict(X_test)\n",
    "\n",
    "print('Logistic Regression :')\n",
    "print(classification_report(y_test, y_test_pred_log))"
   ]
  },
  {
   "cell_type": "code",
   "execution_count": null,
   "metadata": {},
   "outputs": [],
   "source": [
    "akurasi_log_train=round(model_log.score(X_train,y_train)*100,2)\n",
    "akurasi_log_test=round(model_log.score(X_test,y_test)*100,2)\n",
    "print(\"Training Accuracy: % {}\".format(akurasi_log_train))\n",
    "print(\"Test Accuracy: % {}\".format(akurasi_log_test)) "
   ]
  },
  {
   "cell_type": "code",
   "execution_count": null,
   "metadata": {},
   "outputs": [],
   "source": [
    "roc_auc_log = round(roc_auc_score(y_test, y_test_pred_log)*100,2)\n",
    "print('ROC AUC:', roc_auc_log)"
   ]
  },
  {
   "cell_type": "code",
   "execution_count": null,
   "metadata": {},
   "outputs": [],
   "source": [
    "model_svm = SVC(max_iter=1000).fit(X_train, y_train)\n",
    "\n",
    "print(model_svm)"
   ]
  },
  {
   "cell_type": "code",
   "execution_count": null,
   "metadata": {},
   "outputs": [],
   "source": [
    "y_test_pred_svm = model_svm.predict(X_test)\n",
    "\n",
    "print('SVM :')\n",
    "print(classification_report(y_test, y_test_pred_svm))"
   ]
  },
  {
   "cell_type": "code",
   "execution_count": null,
   "metadata": {},
   "outputs": [],
   "source": [
    "akurasi_svm_train=round(model_svm.score(X_train,y_train)*100,2)\n",
    "akurasi_svm_test=round(model_svm.score(X_test,y_test)*100,2)\n",
    "print(\"Training Accuracy: % {}\".format(akurasi_svm_train))\n",
    "print(\"Test Accuracy: % {}\".format(akurasi_svm_test))"
   ]
  },
  {
   "cell_type": "code",
   "execution_count": null,
   "metadata": {},
   "outputs": [],
   "source": [
    "roc_auc_svm = round(roc_auc_score(y_test, y_test_pred_svm)*100,2)\n",
    "print('Skor ROC AUC:', roc_auc_svm)"
   ]
  },
  {
   "cell_type": "code",
   "execution_count": null,
   "metadata": {},
   "outputs": [],
   "source": [
    "model_knn = KNeighborsClassifier().fit(X_train,y_train)\n",
    "print(model_knn)"
   ]
  },
  {
   "cell_type": "code",
   "execution_count": null,
   "metadata": {},
   "outputs": [],
   "source": [
    "y_train_pred_knn = model_knn.predict(X_train)\n",
    "\n",
    "print('K-Nearest Neighbors :')\n",
    "print(classification_report(y_train, y_train_pred_knn))"
   ]
  },
  {
   "cell_type": "code",
   "execution_count": null,
   "metadata": {},
   "outputs": [],
   "source": [
    "y_test_pred_knn = model_knn.predict(X_test)\n",
    "\n",
    "print('K-Nearest Neighbors :')\n",
    "print(classification_report(y_test, y_test_pred_knn))"
   ]
  },
  {
   "cell_type": "code",
   "execution_count": null,
   "metadata": {},
   "outputs": [],
   "source": [
    "akurasi_knn_train=round(model_knn.score(X_train,y_train)*100,2)\n",
    "akurasi_knn_test=round(model_knn.score(X_test,y_test)*100,2)\n",
    "print(\"Training Accuracy: % {}\".format(akurasi_knn_train))\n",
    "print(\"Test Accuracy: % {}\".format(akurasi_knn_test))"
   ]
  },
  {
   "cell_type": "code",
   "execution_count": null,
   "metadata": {},
   "outputs": [],
   "source": [
    "roc_auc_knn = round(roc_auc_score(y_test, y_test_pred_knn)*100,2)\n",
    "print('Skor ROC AUC:', roc_auc_knn)"
   ]
  },
  {
   "cell_type": "code",
   "execution_count": null,
   "metadata": {},
   "outputs": [],
   "source": [
    "from sklearn.tree import DecisionTreeClassifier \n",
    "model_dt = DecisionTreeClassifier().fit(X_train,y_train)\n",
    "print(model_dt)"
   ]
  },
  {
   "cell_type": "code",
   "execution_count": null,
   "metadata": {},
   "outputs": [],
   "source": [
    "y_train_pred_dt = model_dt.predict(X_train)\n",
    "\n",
    "print('Decision Tree :')\n",
    "print(classification_report(y_train, y_train_pred_dt))"
   ]
  },
  {
   "cell_type": "code",
   "execution_count": null,
   "metadata": {},
   "outputs": [],
   "source": [
    "y_test_pred_dt = model_dt.predict(X_test)\n",
    "\n",
    "print('Decision Tree :')\n",
    "print(classification_report(y_test, y_test_pred_dt))"
   ]
  },
  {
   "cell_type": "code",
   "execution_count": null,
   "metadata": {},
   "outputs": [],
   "source": [
    "akurasi_dt_train=round(model_dt.score(X_train,y_train)*100,2)\n",
    "akurasi_dt_test=round(model_dt.score(X_test,y_test)*100,2)\n",
    "print(\"Training Accuracy: % {}\".format(akurasi_dt_train))\n",
    "print(\"Test Accuracy: % {}\".format(akurasi_dt_test))"
   ]
  },
  {
   "cell_type": "code",
   "execution_count": null,
   "metadata": {},
   "outputs": [],
   "source": [
    "roc_auc_dt = round(roc_auc_score(y_test, y_test_pred_dt)*100,2)\n",
    "print('Skor ROC AUC:', roc_auc_knn)"
   ]
  },
  {
   "cell_type": "code",
   "execution_count": null,
   "metadata": {},
   "outputs": [],
   "source": [
    "hasil = pd.DataFrame([[\"Logistic Regression\", 67.15, 67.88, 66.87],[\" SVM\", 52.13, 52.26, 52.26],\n",
    "                       [\"Decision Tree\", 100, 75.79, 87.97],[\"K-Nearest Neighbor\", 91.6, 88.02, 87.97]],\n",
    "                        columns = [\"Metode Algoritma\", \"Skor Training Accuracy\", \"Skor Testing Accuracy\", \"Skor ROC\"])\n",
    "\n",
    "hasil.sort_values(by=['Skor ROC'], ascending=False).style.background_gradient(cmap='Blues')"
   ]
  },
  {
   "cell_type": "code",
   "execution_count": null,
   "metadata": {},
   "outputs": [],
   "source": [
    "df_test = pd.read_csv(\"application_test.csv\", sep=',')\n",
    "print('Dataset ini memiliki %d baris dan %d kolom.\\n' % df_test.shape)\n",
    "df_test.head()"
   ]
  },
  {
   "cell_type": "code",
   "execution_count": null,
   "metadata": {},
   "outputs": [],
   "source": [
    "print('Jumlah data duplikat:', df_test.duplicated().sum())"
   ]
  },
  {
   "cell_type": "code",
   "execution_count": null,
   "metadata": {},
   "outputs": [],
   "source": [
    "print('Status value yang hilang:', df_test.isnull().values.any())\n",
    "jvp = pd.DataFrame(df_test.isnull().sum(), columns=['Total Null Values'])\n",
    "jvp['Percentage'] = (jvp['Total Null Values']/df_test.shape[0])*100\n",
    "jvp.sort_values(by=['Percentage'], ascending=False).reset_index()"
   ]
  },
  {
   "cell_type": "code",
   "execution_count": null,
   "metadata": {},
   "outputs": [],
   "source": [
    "df_test.drop(df_test.iloc[:, 43:90], inplace=True, axis=1)\n",
    "df_test.drop(['OWN_CAR_AGE','EXT_SOURCE_1'], inplace=True, axis=1)"
   ]
  },
  {
   "cell_type": "code",
   "execution_count": null,
   "metadata": {},
   "outputs": [],
   "source": [
    "print('Status value yang hilang:', df_test.isnull().values.any())\n",
    "tvc = pd.DataFrame(df_test.isnull().sum(), columns=['Total Null Values'])\n",
    "tvc['Percentage'] = (tvc['Total Null Values']/df_test.shape[0])*100\n",
    "tvc.sort_values(by=['Percentage'], ascending=False).reset_index()"
   ]
  },
  {
   "cell_type": "code",
   "execution_count": null,
   "metadata": {},
   "outputs": [],
   "source": [
    "category_columns = df_test.select_dtypes(include=['object']).columns.tolist()\n",
    "integer_columns = df_test.select_dtypes(include=['int64','float64']).columns.tolist()\n",
    "\n",
    "for column in df_test:\n",
    "    if df_test[column].isnull().any():\n",
    "        if(column in category_columns):\n",
    "            df_test[column]=df_test[column].fillna(df_test[column].mode()[0])\n",
    "        else:\n",
    "            df_test[column]=df_test[column].fillna(df_test[column].median())"
   ]
  },
  {
   "cell_type": "code",
   "execution_count": null,
   "metadata": {},
   "outputs": [],
   "source": [
    "df_test[[\"CODE_GENDER\", \"NAME_CONTRACT_TYPE\", \"FLAG_OWN_CAR\", \"FLAG_OWN_REALTY\", \n",
    "          \"NAME_TYPE_SUITE\", \"NAME_INCOME_TYPE\", \"NAME_EDUCATION_TYPE\", \"NAME_FAMILY_STATUS\",\n",
    "         \"NAME_HOUSING_TYPE\", \"OCCUPATION_TYPE\", \"WEEKDAY_APPR_PROCESS_START\", \"ORGANIZATION_TYPE\"]] = df_test[[\"CODE_GENDER\", \"NAME_CONTRACT_TYPE\", \"FLAG_OWN_CAR\", \"FLAG_OWN_REALTY\", \n",
    "          \"NAME_TYPE_SUITE\", \"NAME_INCOME_TYPE\", \"NAME_EDUCATION_TYPE\", \"NAME_FAMILY_STATUS\",\n",
    "         \"NAME_HOUSING_TYPE\", \"OCCUPATION_TYPE\", \"WEEKDAY_APPR_PROCESS_START\", \"ORGANIZATION_TYPE\"]].apply(LabelEncoder().fit_transform)"
   ]
  },
  {
   "cell_type": "code",
   "execution_count": null,
   "metadata": {},
   "outputs": [],
   "source": [
    "df_test.iloc[:,16:20] = df_test.iloc[:,16:20].abs()\n",
    "df_test.iloc[:,45] = df_test.iloc[:,45].abs()"
   ]
  },
  {
   "cell_type": "code",
   "execution_count": null,
   "metadata": {},
   "outputs": [],
   "source": [
    "pred_test = df_test[['DAYS_EMPLOYED', 'AMT_GOODS_PRICE', 'AMT_CREDIT', \n",
    "                           'DAYS_BIRTH', 'AMT_INCOME_TOTAL', 'DAYS_REGISTRATION', \n",
    "                           'DAYS_LAST_PHONE_CHANGE', 'DAYS_ID_PUBLISH', 'AMT_ANNUITY', \n",
    "                           'ORGANIZATION_TYPE', 'NAME_INCOME_TYPE', 'REG_CITY_NOT_WORK_CITY',\n",
    "                          'CODE_GENDER', 'EXT_SOURCE_2', 'REG_CITY_NOT_LIVE_CITY', 'NAME_EDUCATION_TYPE',\n",
    "                          'DEF_30_CNT_SOCIAL_CIRCLE', 'EXT_SOURCE_3', 'DEF_60_CNT_SOCIAL_CIRCLE', 'LIVE_CITY_NOT_WORK_CITY']]\n",
    "pred_test.head()"
   ]
  },
  {
   "cell_type": "code",
   "execution_count": null,
   "metadata": {},
   "outputs": [],
   "source": [
    "# lets predict!\n",
    "predict = pd.Series(model_knn.predict(pred_test), name = \"TARGET\").astype(int)\n",
    "results = pd.concat([df_test['SK_ID_CURR'], predict],axis = 1)\n",
    "results.to_csv(\"hasilprediksi.csv\", index = False)\n",
    "results.head() "
   ]
  },
  {
   "cell_type": "code",
   "execution_count": null,
   "metadata": {},
   "outputs": [],
   "source": []
  }
 ],
 "metadata": {
  "kernelspec": {
   "display_name": "Python 3",
   "language": "python",
   "name": "python3"
  },
  "language_info": {
   "codemirror_mode": {
    "name": "ipython",
    "version": 3
   },
   "file_extension": ".py",
   "mimetype": "text/x-python",
   "name": "python",
   "nbconvert_exporter": "python",
   "pygments_lexer": "ipython3",
   "version": "3.11.2"
  },
  "orig_nbformat": 4,
  "vscode": {
   "interpreter": {
    "hash": "5238573367df39f7286bb46f9ff5f08f63a01a80960060ce41e3c79b190280fa"
   }
  }
 },
 "nbformat": 4,
 "nbformat_minor": 2
}
